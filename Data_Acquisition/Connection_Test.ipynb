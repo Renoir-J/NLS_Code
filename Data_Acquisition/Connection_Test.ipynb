{
 "cells": [
  {
   "cell_type": "code",
   "execution_count": null,
   "id": "aea773a2",
   "metadata": {},
   "outputs": [],
   "source": [
    "import numpy as np\n",
    "from matplotlib import pyplot as plt\n",
    "from tpo_tools.instrumentation import RigolDHO1074, RigolDG2102, AWGSettings, AWGChannelSettings, OscilloscopeChannelSettings, OscilloscopeSettings, SampleInfo\n",
    "from tpo_tools.analysis import PUNDTemplateWF, TrapezoidTemplateWF, CollectionTemplateWF\n",
    "import pyvisa\n",
    "from pprint import pprint"
   ]
  },
  {
   "cell_type": "markdown",
   "id": "6413c495",
   "metadata": {},
   "source": [
    "# Connection Test"
   ]
  },
  {
   "cell_type": "code",
   "execution_count": null,
   "id": "8e0c73a2",
   "metadata": {},
   "outputs": [
    {
     "name": "stdout",
     "output_type": "stream",
     "text": [
      "('TCPIP0::10.97.108.216::inst0::INSTR', 'TCPIP0::0.0.0.0::inst0::INSTR', 'ASRL3::INSTR', 'ASRL7::INSTR')\n",
      "\n",
      "TCPIPInstrument at TCPIP0::10.97.108.216::inst0::INSTR\n",
      "Rigol Technologies,DG2102,DG2P233800951,00.02.07.00.01\n",
      "\n",
      "Failed to connect TCPIP0::0.0.0.0::inst0::INSTR\n",
      "\n",
      "SerialInstrument at ASRL3::INSTR\n",
      "Failed to connect ASRL3::INSTR\n",
      "\n",
      "SerialInstrument at ASRL7::INSTR\n",
      "NF Corporation,CA5351,9355286,1.10\n",
      "\n",
      "TCPIPInstrument at TCPIP0::10.97.108.250::inst0::INSTR\n",
      "RIGOL TECHNOLOGIES,DHO1074,HDO1B244902222,00.02.13\n",
      "\n",
      "{'AWG': 'TCPIP0::10.97.108.216::inst0::INSTR',\n",
      " 'TIA': 'ASRL7::INSTR',\n",
      " 'oscope': 'TCPIP0::10.97.108.250::inst0::INSTR'}\n"
     ]
    }
   ],
   "source": [
    "rm = pyvisa.ResourceManager()\n",
    "print(rm.list_resources())\n",
    "available_devices = {}\n",
    "for address in rm.list_resources() + ('TCPIP0::10.97.108.250::inst0::INSTR',):\n",
    "    print()\n",
    "    try:\n",
    "        with rm.open_resource(address) as session:\n",
    "            print(session)\n",
    "            idn = session.query('*IDN?').strip()\n",
    "            print(idn)\n",
    "            if 'DG2102' in idn:\n",
    "                available_devices['AWG'] = address\n",
    "            elif 'DHO1074' in idn:\n",
    "                available_devices['oscope'] = address\n",
    "            elif 'CA5351' in idn:\n",
    "                available_devices['TIA'] = address\n",
    "    except:\n",
    "        print('Failed to connect', address)\n",
    "print()\n",
    "pprint(available_devices)\n",
    "with rm.open_resource(available_devices['TIA']) as tia:\n",
    "        tia.write(':INPUT ON')\n",
    "        print(tia.query(':INPUT?'))\n",
    "        tia.write(':INPUT OFF')\n",
    "        print(tia.query(':INPUT?'))\n",
    "print('Connection test completed')"
   ]
  }
 ],
 "metadata": {
  "kernelspec": {
   "display_name": "Regan_Lab",
   "language": "python",
   "name": "python3"
  },
  "language_info": {
   "codemirror_mode": {
    "name": "ipython",
    "version": 3
   },
   "file_extension": ".py",
   "mimetype": "text/x-python",
   "name": "python",
   "nbconvert_exporter": "python",
   "pygments_lexer": "ipython3",
   "version": "3.12.7"
  }
 },
 "nbformat": 4,
 "nbformat_minor": 5
}
