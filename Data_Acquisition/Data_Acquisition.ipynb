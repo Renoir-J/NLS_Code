{
 "cells": [
  {
   "cell_type": "markdown",
   "id": "62d9d6ca",
   "metadata": {},
   "source": [
    "# Environmnt Settup"
   ]
  },
  {
   "cell_type": "code",
   "execution_count": null,
   "id": "c887755e",
   "metadata": {},
   "outputs": [],
   "source": [
    "import numpy as np\n",
    "import ipynbname\n",
    "#%matplotlib widget\n",
    "from matplotlib import pyplot as plt\n",
    "import os, time\n",
    "import pyvisa\n",
    "from tpo_tools.analysis import CollectionTemplateWF, PUNDTemplateWF, SampleInfo\n",
    "from tpo_tools.instrumentation import AWGSettings, AWGChannelSettings, OscilloscopeChannelSettings, OscilloscopeSettings, RigolDHO1074, RigolDG2102\n",
    "from tpo_tools.analysis import SineTemplateWF, ConstantTemplateWF, TrapezoidTemplateWF, DUTInfo\n",
    "from tpo_tools.analysis import TemplatedTransportData, TransportDataList, PUND\n",
    "from tpo_tools import fig2clipboard, figures2gif\n",
    "import h5py\n",
    "from pathlib import Path\n",
    "import time\n",
    "import datetime\n",
    "from datetime import datetime, date, timedelta\n",
    "outdir = f'./{date.today()}_R2C3_UVA/'\n",
    "try:\n",
    "    os.mkdir(outdir)\n",
    "except:\n",
    "    pass\n",
    "print(f\"Current relative output directory: {outdir}\")"
   ]
  },
  {
   "cell_type": "markdown",
   "id": "a67f1593",
   "metadata": {},
   "source": [
    "# Connection & Setup Devices"
   ]
  },
  {
   "cell_type": "code",
   "execution_count": null,
   "id": "242be08f",
   "metadata": {},
   "outputs": [
    {
     "name": "stdout",
     "output_type": "stream",
     "text": [
      "At address TCPIP0::10.97.108.243::inst0::INSTR, RigolDHO1074 query result: RIGOL TECHNOLOGIES,DHO1074,HDO1B244902222,00.02.13\n",
      "At address USB0::0x1AB1::0x0644::DG2P233800951::INSTR, RigolDG2102 query result: Rigol Technologies,DG2102,DG2P233800951,00.02.07.00.01\n"
     ]
    }
   ],
   "source": [
    "#Connect to devices\n",
    "oscope = RigolDHO1074.identify('TCPIP0::10.97.108.243::inst0::INSTR')\n",
    "# class method, inherited from _BaseParent -> OscilloscopeSettings -> RigolDHO1074\n",
    "# in identify, it will call the _idn method of RigolDHO1074, if it returns True, it will return the instance of RigolDHO1074\n",
    "# if it returns False, it will continue to look up, until it finds a device that can be identified\n",
    "# if it can't find any device, it will return None\n",
    "oscope.verbose= False\n",
    "oscope.delay = 0.02\n",
    "awg = RigolDG2102.identify('USB0::0x1AB1::0x0644::DG2P233800951::INSTR')\n",
    "awg.verbose= False\n",
    "awg.delay = 0.25\n",
    "awg.reset()\n",
    "oscope.reset()\n",
    "state_set_counter = 0\n",
    "awg.verbose = True\n",
    "oscope.verbose = True\n",
    "sample_info = SampleInfo(id='Large_Cap_R2C3', notes='NLS_UVA_SAMPLE')\n",
    "DUTInfo(name='FeCap', area=100**2*np.pi, thickness=20e-9, parent=sample_info) # 200 um diameter, 20 nm thick\n",
    "DUTInfo(name='Heater', area=1e-14, thickness=0, parent=sample_info)"
   ]
  },
  {
   "cell_type": "markdown",
   "id": "12064962",
   "metadata": {},
   "source": [
    "# Reset/Set Devices"
   ]
  },
  {
   "cell_type": "code",
   "execution_count": null,
   "id": "17a46f93",
   "metadata": {},
   "outputs": [],
   "source": [
    "def reset(minium_period = 1e-6, ch1=True, ch2=True):\n",
    "    awg_settings = AWGSettings()\n",
    "    oscope_settings = OscilloscopeSettings(sample_rate=2e6, trig_delay=1e-3)\n",
    "    if ch1:\n",
    "        awgch1 = AWGChannelSettings(channel=1, sample_rate=1/minium_period, destination='FeCap',  parent=awg_settings)\n",
    "        OscilloscopeChannelSettings(channel=1, vrange=10, source='FeCap',  parent=oscope_settings)\n",
    "        OscilloscopeChannelSettings(channel=2, vrange=10, transimpedance=-1e4, source='FeCap',  parent=oscope_settings)\n",
    "        # amplifier is a inverted  current amp, -1mA goes to 1V    \n",
    "        CollectionTemplateWF(parent=awgch1, destination='FeCap')\n",
    "    else:\n",
    "        raise ValueError('Always watching the FeCap...') \n",
    "    # ch2 is for the heater, not using in the NLS\n",
    "    if ch2:\n",
    "        awgch2 = AWGChannelSettings(channel=2, sample_rate=1e5, destination='Heater', parent=awg_settings)\n",
    "        OscilloscopeChannelSettings(channel=3, vrange=5,  source='Heater', parent=oscope_settings)\n",
    "        OscilloscopeChannelSettings(channel=4, vrange=5,  transimpedance=+1e4, source='Heater', parent=oscope_settings)\n",
    "        CollectionTemplateWF(parent=awgch2, destination='Heater')\n",
    "    else:\n",
    "        awgch2 = AWGChannelSettings(channel=2, sample_rate=1e5, destination='none', parent=awg_settings)\n",
    "        OscilloscopeChannelSettings(channel=3, source='none', parent=oscope_settings)\n",
    "        OscilloscopeChannelSettings(channel=4, source='none', parent=oscope_settings)\n",
    "        CollectionTemplateWF(parent=awgch2, destination='none') \n",
    "    return awg_settings, oscope_settings\n",
    "\n",
    "\n",
    "\n",
    "def set_state(awg_settings, oscope_settings):\n",
    "    for _ in range(1): # need to run through this twice after first turning on AWG\n",
    "        # Update awg settings first\n",
    "        try:\n",
    "            assert awg.set_state(awg_settings), 'Something went wrong while settings up AWG.'\n",
    "        except:\n",
    "            try:\n",
    "                assert awg.set_state(awg_settings), 'Something went wrong while settings up AWG.'\n",
    "            except:\n",
    "                assert awg.set_state(awg_settings), 'Something went wrong while settings up AWG.'\n",
    "        # Then update oscope settings\n",
    "        try:\n",
    "            assert oscope.set_state( oscope_settings, awg_settings, sample_info ), 'Something went wrong while setting up oscilloscope'\n",
    "        except:\n",
    "            try:\n",
    "                assert oscope.set_state( oscope_settings, awg_settings, sample_info ), 'Something went wrong while setting up oscilloscope'\n",
    "            except:\n",
    "                assert oscope.set_state( oscope_settings, awg_settings, sample_info ), 'Something went wrong while setting up oscilloscope'\n",
    "        if oscope_settings.sample_rate != 2e6:\n",
    "            print('Oscope sample rate adjusted to be', oscope_settings.sample_rate)\n",
    "        time.sleep(0.2)"
   ]
  },
  {
   "cell_type": "markdown",
   "id": "84d2c251",
   "metadata": {},
   "source": [
    "# Custom waveforms"
   ]
  },
  {
   "cell_type": "code",
   "execution_count": null,
   "id": "3abf71ed",
   "metadata": {},
   "outputs": [
    {
     "name": "stdout",
     "output_type": "stream",
     "text": [
      "\n"
     ]
    }
   ],
   "source": [
    "def set_cycle(NDPU=False, cycle_voltage=5):\n",
    "    awg_settings, oscope_settings = reset(ch2=False)\n",
    "    template1, = awg_settings[0].template\n",
    "    template2, = awg_settings[1].template\n",
    "    oscope_settings.sample_rate = 5e5\n",
    "    if NDPU:\n",
    "        Polarity = -1\n",
    "    else:\n",
    "        Polarity = +1\n",
    "    PUNDTemplateWF(amplitude = cycle_voltage*Polarity, dVdt=1e4, delay_time=1e-3, n_cycles=4e1    , parent=template1)\n",
    "    # default n_pulses = 2\n",
    "    # if n_pulses = 1, it goes like PNPNPNPN---, no delay_time between adjacent pulses\n",
    "    # using pre-existing PUNDTemplateWF\n",
    "    set_state(awg_settings, oscope_settings)\n",
    "    print('~~~~~~~~~~ Set state for PUND~~~~~~~~~~~~')\n",
    "\n",
    "\n",
    "\n",
    "def set_ND(NDPU=True, cycle_voltage=5):\n",
    "    awg_settings, oscope_settings = reset(ch2=False)\n",
    "    template1, = awg_settings[0].template\n",
    "    template2, = awg_settings[1].template\n",
    "    if NDPU:\n",
    "        Polarity = -1\n",
    "    else:\n",
    "        Polarity = +1\n",
    "    PUNDTemplateWF(amplitude = cycle_voltage * Polarity, dVdt=1e4, delay_time=5e-3, n_cycles=0.5, n_pulses=2, parent=template1)\n",
    "    set_state(awg_settings, oscope_settings)\n",
    "    print('~~~~~~~~~~ Set state for ND ~~~~~~~~~~~~')\n",
    "\n",
    "\n",
    "\n",
    "def set_rectangular_pulse(voltage_height, hold_time, NDPU=False):\n",
    "    rise_time = int(hold_time*1e-4)\n",
    "    if rise_time < 2e-8:\n",
    "        rise_time = 2e-8\n",
    "    # default rise time is 20 ns\n",
    "    awg_settings, oscope_settings = reset(ch2=False, minium_period=rise_time)\n",
    "    template1, = awg_settings[0].template\n",
    "    template2, = awg_settings[1].template\n",
    "    if NDPU:\n",
    "        Polarity = -1\n",
    "    else:\n",
    "        Polarity = +1\n",
    "    TrapezoidTemplateWF(height = voltage_height, rise_time = rise_time, hold_time = hold_time, offset = 0, parent = template1)\n",
    "    print(template1)\n",
    "    set_state(awg_settings, oscope_settings)\n",
    "    global state\n",
    "    global voltage_height_rect\n",
    "    global hold_time_rect\n",
    "    voltage_height_rect = voltage_height\n",
    "    hold_time_rect = hold_time\n",
    "    if NDPU:\n",
    "        state = f'rectangular_pulse_voltage_{voltage_height:.3f}_hold_time_{hold_time:7f}'\n",
    "    print('~~~~~~~~~~ Set state for', state, '~~~~~~~~~~~~')\n",
    "    # using rm to open the amplifier after the rectangular pulse\n"
   ]
  },
  {
   "cell_type": "markdown",
   "id": "6d54a679",
   "metadata": {},
   "source": [
    "# Trigger"
   ]
  },
  {
   "cell_type": "code",
   "execution_count": null,
   "id": "fc8ffd30",
   "metadata": {},
   "outputs": [],
   "source": [
    "def trigger(save = True, read = True):\n",
    "    if not read:\n",
    "        try:\n",
    "            with rm.open_resource('ASRL7::INSTR') as tia:\n",
    "                tia.write(':INPUT ON')\n",
    "                print(tia.query(':INPUT?'))\n",
    "        except:\n",
    "            print('TIA is not connected')\n",
    "    else:\n",
    "        try:\n",
    "            with rm.open_resource('ASRL7::INSTR') as tia:\n",
    "                tia.write(':INPUT OFF')\n",
    "                print(tia.query(':INPUT?'))\n",
    "        except:\n",
    "            print('Something Went Wrong')\n",
    "    oscope.prepare_for_trigger()\n",
    "    awg.prepare_for_trigger()\n",
    "    oscope.trigger()\n",
    "    # oscope is 01074, awg is 33522B\n",
    "    # there is a delay time between mdep/srate, to ensure the awg waveform is fully captured\n",
    "    if read:\n",
    "        # time.sleep(1)\n",
    "        data = oscope.read_data()\n",
    "        data.sample_info = sample_info \n",
    "    awg.done_with_trigger() # turn off outputs, since oscope will keep acquiring waveform after tforce, so only solution is to turn off awg outputs\n",
    "    oscope.done_with_trigger() \n",
    "    print('Data read') \n",
    "    if not save:\n",
    "        return\n",
    "    rel_file_path = f'{outdir}/{data[0].daq_timeofday}_{state}.hdf5'\n",
    "    data.save(rel_file_path)\n",
    "    script_dir = r'C:\\Users\\User\\Desktop\\RENJIEQU_SUMMER_REU\\NLS'\n",
    "    NLS_Data = h5py.File(f'{script_dir}{rel_file_path}', \"a\")\n",
    "    # append mode for the NLS_Data hdf5 file\n",
    "    trap_meta = NLS_Data.create_group('rectangular_template')\n",
    "    trap_meta.create_dataset('voltage_height', data=voltage_height_rect)\n",
    "    trap_meta.create_dataset('voltage_unit', data='V')\n",
    "    trap_meta.create_dataset('hold_time', data=hold_time_rect)\n",
    "    trap_meta.create_dataset('hold_time_unit', data='s')\n",
    "    return data\n"
   ]
  },
  {
   "cell_type": "code",
   "execution_count": null,
   "id": "0ea07ca4",
   "metadata": {},
   "outputs": [],
   "source": [
    "def SINGLE_TRIAL(voltage_height, duration_time):\n",
    "    pund_data = []\n",
    "    rm = pyvisa.ResourceManager()\n",
    "    # Main loop to collect data\n",
    "    set_cycle(NDPU=False)\n",
    "    t0 = time.time()\n",
    "    trigger(save = False, read = False)\n",
    "    print('waiting time 1', time.time()-t0)\n",
    "    set_rectangular_pulse(voltage_height = voltage_height, hold_time = duration_time,  NDPU=True)\n",
    "    print('waiting time 2', time.time()-t0)\n",
    "    trigger(save = False, read = False)\n",
    "    print('waiting time 3', time.time()-t0)\n",
    "    set_ND(NDPU=True)\n",
    "    pund_data.append(trigger())\n",
    "    print(f'Complete trial for voltage_height = {voltage_height}, duration_time = {duration_time}')\n",
    "    return"
   ]
  },
  {
   "cell_type": "markdown",
   "id": "cee81dc9",
   "metadata": {},
   "source": [
    "## Take/Save Data"
   ]
  },
  {
   "cell_type": "code",
   "execution_count": null,
   "id": "47a0b255",
   "metadata": {},
   "outputs": [
    {
     "name": "stdout",
     "output_type": "stream",
     "text": [
      "Oscope sample rate adjusted to be 500000.0\n",
      "~~~~~~~~~~ Set state for PUND~~~~~~~~~~~~\n",
      "1\n",
      "\n",
      "Data read\n",
      "debug 1 4.994541645050049\n",
      "<tpo_tools.analysis.templates.CollectionTemplateWF object at 0x000001DE396B6330>\n",
      "~~~~~~~~~~ Set state for rectangular_pulse_voltage_0.000_hold_time_0.000000 ~~~~~~~~~~~~\n",
      "debug 2 17.622706413269043\n",
      "1\n",
      "\n",
      "Data read\n",
      "debug 3 21.532606840133667\n",
      "~~~~~~~~~~ Set state for ND ~~~~~~~~~~~~\n",
      "0\n",
      "\n"
     ]
    }
   ],
   "source": [
    "oscope.opc = True\n",
    "voltage_height_array = np.array([0.5, 1, 1.3, 1.5, 1.625, 1.75, 1.875, 2, 2.16, 2.35, 2.5, 3.0, 3.5, 4.0, 4.5])\n",
    "duration_time_array = np.array([1e-7, 2e-7, 5e-7, 7e-7, 1e-6, 1.5e-6, 2e-6, 3e-6, 4e-6, 5e-6, 7e-6, 1e-5, 1.5e-5, 2e-5, 3e-5, 5e-5, 1e-4,\n",
    "                                 2e-4, 5e-4, 1e-3, 4e-3, 1e-2, 4e-2, 1e-1, 4e-1, 1])\n",
    "\n",
    "\n",
    "\n",
    "for voltage_height in voltage_height_array:\n",
    "    for duration_time in duration_time_array:\n",
    "        SINGLE_TRIAL(voltage_height, duration_time)\n",
    "        time.sleep(10)\n",
    "\n",
    "\n"
   ]
  }
 ],
 "metadata": {
  "kernelspec": {
   "display_name": "tpo-pund-gui",
   "language": "python",
   "name": "python3"
  },
  "language_info": {
   "codemirror_mode": {
    "name": "ipython",
    "version": 3
   },
   "file_extension": ".py",
   "mimetype": "text/x-python",
   "name": "python",
   "nbconvert_exporter": "python",
   "pygments_lexer": "ipython3",
   "version": "3.13.2"
  }
 },
 "nbformat": 4,
 "nbformat_minor": 5
}
